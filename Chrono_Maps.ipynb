{
 "cells": [
  {
   "cell_type": "code",
   "execution_count": 14,
   "id": "functional-county",
   "metadata": {},
   "outputs": [],
   "source": [
    "import folium\n",
    "import json\n",
    "import pandas as pd\n",
    "from datetime import datetime\n",
    "from shapely.geometry import Point\n",
    "from geopandas import GeoDataFrame\n",
    "import geopandas as gpd\n",
    "from folium.plugins import MarkerCluster\n",
    "import plotly.express as px\n",
    "#conda install -c plotly plotly-orca\n",
    "#plotly.io.orca.config.executable = '/path/to/orca'\n",
    "#plotly.io.orca.config.save()"
   ]
  },
  {
   "cell_type": "markdown",
   "id": "naughty-heart",
   "metadata": {},
   "source": [
    "# Creating Map"
   ]
  },
  {
   "cell_type": "markdown",
   "id": "wound-fifteen",
   "metadata": {},
   "source": [
    "This is only needed for foluim Choropleth. For Plotly, a base map can be added by mapbox_style input parameter. "
   ]
  },
  {
   "cell_type": "code",
   "execution_count": null,
   "id": "smooth-trace",
   "metadata": {},
   "outputs": [],
   "source": [
    "m_chrono = folium.Map(location=[55.9533, 3.1883], zoom_start=5)\n",
    "\n",
    "# key = #Ordnance Survey (OS) API_KEY \n",
    "# layer = 'Light_3857'\n",
    "# zxy_path = 'https://api.os.uk/maps/raster/v1/zxy/{}/{{z}}/{{x}}/{{y}}.png?key={}'.format(layer, key)\n",
    "\n",
    "# # Create a new Folium map\n",
    "# # Ordnance Survey basemap using the OS Data Hub OS Maps API centred on the boundary centroid location\n",
    "# # Zoom levels 7 - 16 correspond to the open data zoom scales only\n",
    "# m_chrono = folium.Map(location=[55.9533, -3.1883],\n",
    "#                min_zoom=7,\n",
    "#                max_zoom=16,\n",
    "#                tiles=zxy_path,\n",
    "#                attr='Contains OS data © Crown copyright and database right {}'.format(datetime.year),\n",
    "#                clustered_marker = False)"
   ]
  },
  {
   "cell_type": "markdown",
   "id": "broke-hostel",
   "metadata": {},
   "source": [
    "# Read Data"
   ]
  },
  {
   "cell_type": "code",
   "execution_count": 15,
   "id": "detailed-conference",
   "metadata": {},
   "outputs": [],
   "source": [
    "shp_data = gpd.read_file(\"~ GBR_adm2.shp\") # GBR ADM2 Dataset Should be Downloaded\n",
    "shp_data= shp_data[shp_data.NAME_1 == 'Scotland'].reset_index(drop=True)\n",
    "scotland_population=pd.read_excel(\"Scotland_Population.xlsx\") "
   ]
  },
  {
   "cell_type": "code",
   "execution_count": 16,
   "id": "fabulous-warrant",
   "metadata": {},
   "outputs": [],
   "source": [
    "#Create geometry column and convert the df to geo df\n",
    "scotland_stations = pd.read_csv('scotland_station_df.csv')\n",
    "geometry = [Point(xy) for xy in zip(scotland_stations.longitude, scotland_stations.latitude)]\n",
    "scotland_stations_geo = GeoDataFrame(scotland_stations, crs=\"EPSG:4326\", geometry=geometry)\n",
    "#For plotly Geojson version of df is created and saved as Geojson. After creating once, just reading is enough geojson=scot_states\n",
    "with open(\"Geojson.json\") as f:\n",
    "      scot_states = json.load(f)"
   ]
  },
  {
   "cell_type": "code",
   "execution_count": 17,
   "id": "cooked-milan",
   "metadata": {},
   "outputs": [
    {
     "data": {
      "text/plain": [
       "1407"
      ]
     },
     "execution_count": 17,
     "metadata": {},
     "output_type": "execute_result"
    }
   ],
   "source": [
    "len(scotland_stations_geo)"
   ]
  },
  {
   "cell_type": "markdown",
   "id": "decreased-transition",
   "metadata": {},
   "source": [
    "# Data Preparation "
   ]
  },
  {
   "cell_type": "code",
   "execution_count": 18,
   "id": "increasing-young",
   "metadata": {},
   "outputs": [
    {
     "data": {
      "text/plain": [
       "<folium.plugins.marker_cluster.MarkerCluster at 0x19db3f97130>"
      ]
     },
     "execution_count": 18,
     "metadata": {},
     "output_type": "execute_result"
    }
   ],
   "source": [
    "# Display Unity Area polygons\n",
    "shp_data_mark = MarkerCluster(name=\"unity area\")\n",
    "for _, r in shp_data.iterrows():\n",
    "    #without simplifying the representation of each borough, the map might not be displayed\n",
    "    #sim_geo = gpd.GeoSeries(r['geometry'])\n",
    "    sim_geo = gpd.GeoSeries(r['geometry']).simplify(tolerance=0.001)\n",
    "    geo_j = sim_geo.to_json()\n",
    "    geo_j = folium.GeoJson(data=geo_j,\n",
    "                           style_function=lambda x: {'fillColor': 'orange'},\n",
    "                          popup=\"mahir\",)\n",
    "    geo_j.add_to(shp_data_mark)\n",
    "shp_data_mark.add_to(m_chrono)"
   ]
  },
  {
   "cell_type": "code",
   "execution_count": 19,
   "id": "thrown-accent",
   "metadata": {},
   "outputs": [],
   "source": [
    "number_of_stations={}\n",
    "stations = {}\n",
    "rapid_stations = {}\n",
    "fast_stations = {}\n",
    "slow_stations = {}\n",
    "for j,k in shp_data.iterrows():\n",
    "    num = 0\n",
    "    rapid_charger = 0\n",
    "    fast_charger = 0\n",
    "    slow_charger = 0\n",
    "    index_list=[]\n",
    "    for i,v in scotland_stations_geo.iterrows(): \n",
    "        if k.geometry.contains(v.geometry) == True: # check whether a station is in a particular polygon or not\n",
    "            if v.Charger_Category == \"Rapid\":\n",
    "                rapid_charger += 1\n",
    "            elif v.Charger_Category == \"Fast\":\n",
    "                fast_charger += 1\n",
    "            elif v.Charger_Category == \"Slow\":\n",
    "                slow_charger += 1\n",
    "            index_list.append(i)\n",
    "            num = num + 1 \n",
    "    stations[k['NAME_2']] = index_list\n",
    "    number_of_stations[k['NAME_2']] = num\n",
    "    rapid_stations[k['NAME_2']] = rapid_charger\n",
    "    fast_stations[k['NAME_2']] = fast_charger \n",
    "    slow_stations[k['NAME_2']] = slow_charger \n",
    "chro_pd = pd.DataFrame.from_dict(number_of_stations, orient='index').reset_index(drop=False)\n",
    "chro_pd = chro_pd.rename(columns = {\"index\":\"NAME_2\", 0: \"Number_of_Station\"})\n",
    "\n",
    "df_11 = pd.DataFrame.from_dict(rapid_stations, orient='index').reset_index(drop=False)\n",
    "df_12 = pd.DataFrame.from_dict(fast_stations, orient='index').reset_index(drop=False)\n",
    "df_13 = pd.DataFrame.from_dict(slow_stations, orient='index').reset_index(drop=False)\n",
    "df_11[\"fast\"]= df_12[0]\n",
    "df_11[\"slow\"] = df_13[0]\n",
    "df_11[\"Number_of_Station\"]= chro_pd[\"Number_of_Station\"]\n",
    "\n",
    "temp_df_2 = df_11.rename(columns = {\"index\":\"NAME_2\", 0: \"rapid\"})\n",
    "\n",
    "final_df = shp_data.merge(chro_pd, on = \"NAME_2\")\n",
    "final_df_all = shp_data.merge(temp_df_2, on = \"NAME_2\")"
   ]
  },
  {
   "cell_type": "code",
   "execution_count": 20,
   "id": "moved-release",
   "metadata": {},
   "outputs": [],
   "source": [
    "temp_df_2 =temp_df_2.sort_values(by=[\"Number_of_Station\"],ascending=False).reset_index(drop=True)\n",
    "temp_df_2 [\"Population\"] = scotland_population[\"Population\"]\n",
    "temp_df_2 [\"Density\"]= temp_df_2 .Number_of_Station/(temp_df_2.Population/100000)\n",
    "final_df_density = shp_data.merge(temp_df_2, on = \"NAME_2\")"
   ]
  },
  {
   "cell_type": "code",
   "execution_count": 21,
   "id": "extended-cleaning",
   "metadata": {},
   "outputs": [
    {
     "data": {
      "text/plain": [
       "865"
      ]
     },
     "execution_count": 21,
     "metadata": {},
     "output_type": "execute_result"
    }
   ],
   "source": [
    "final_df.Number_of_Station.sum()"
   ]
  },
  {
   "cell_type": "markdown",
   "id": "unnecessary-allen",
   "metadata": {},
   "source": [
    "# Create Maps"
   ]
  },
  {
   "cell_type": "code",
   "execution_count": null,
   "id": "familiar-consent",
   "metadata": {
    "scrolled": false
   },
   "outputs": [],
   "source": [
    "# Number of CS per unity area \n",
    "folium.Choropleth(\n",
    "geo_data=final_df,\n",
    "data=final_df,\n",
    "columns=['NAME_2',\"Number_of_Station\"],\n",
    "key_on=\"feature.properties.NAME_2\",\n",
    "fill_color='YlGnBu',\n",
    "fill_opacity=1,\n",
    "line_opacity=0.2,\n",
    "legend_name=\"Number of Stations\",\n",
    "smooth_factor=0,\n",
    "Highlight= True,\n",
    "line_color = \"#0000\",\n",
    "name = \"Number of Stations\",\n",
    "show=False,\n",
    "overlay=True,\n",
    "nan_fill_color = \"Number of Stations\"\n",
    ").add_to(m_chrono)\n",
    "m_chrono"
   ]
  },
  {
   "cell_type": "code",
   "execution_count": null,
   "id": "judicial-tissue",
   "metadata": {},
   "outputs": [],
   "source": [
    "#m_chrono.save('Last_Chrono.html')"
   ]
  },
  {
   "cell_type": "code",
   "execution_count": null,
   "id": "protected-comfort",
   "metadata": {},
   "outputs": [],
   "source": [
    "# Number of CS per unity area by Plotly Express\n",
    "fig_den = px.choropleth_mapbox(final_df, geojson=scot_states, color=\"Number_of_Station\",\n",
    "                           locations=\"NAME_2\",featureidkey=\"properties.NAME_2\",\n",
    "                           center={\"lat\": 55.9533, \"lon\":-3.1883},\n",
    "                            color_continuous_scale= 'YlGnBu',#\"Viridis\"\n",
    "                            labels={'NAME_2':'Unitary Distinct',\"Number_of_Station\":\"Number of Stations\" },\n",
    "                           mapbox_style=\"open-street-map\", zoom=5)\n",
    "fig_den.update_layout(margin={\"r\":0,\"t\":0,\"l\":0,\"b\":0})\n",
    "fig_den.show() "
   ]
  },
  {
   "cell_type": "code",
   "execution_count": null,
   "id": "modular-fields",
   "metadata": {},
   "outputs": [],
   "source": [
    "# fig_den.write_html(\"C:\\\\Users\\\\~~.html\",width = 600, height = 400))"
   ]
  },
  {
   "cell_type": "code",
   "execution_count": null,
   "id": "informed-athletics",
   "metadata": {},
   "outputs": [],
   "source": [
    "# Number of rapid CS per unity area by Plotly Express\n",
    "fig_den = px.choropleth_mapbox(final_df_all, geojson=scot_states, color=\"rapid\",\n",
    "                           locations=\"NAME_2\",featureidkey=\"properties.NAME_2\",\n",
    "                           center={\"lat\": 55.9533, \"lon\":-3.1883},\n",
    "                            color_continuous_scale= 'YlGnBu',#\"Viridis\"\n",
    "                            labels={'NAME_2':'Unitary Distinct',\"rapid\":\"Number of Rapid Stations\",\n",
    "                                    \"Number_of_Station\": \"Total Number of Stations\"},\n",
    "                           mapbox_style=\"open-street-map\", zoom=5)\n",
    "fig_den.update_layout(margin={\"r\":0,\"t\":0,\"l\":0,\"b\":0})\n",
    "fig_den.show() "
   ]
  },
  {
   "cell_type": "code",
   "execution_count": null,
   "id": "grand-complaint",
   "metadata": {},
   "outputs": [],
   "source": [
    "# fig_den.write_html(\"C:\\\\Users\\\\~~.html\",width = 600, height = 400))"
   ]
  },
  {
   "cell_type": "code",
   "execution_count": null,
   "id": "pressed-wellington",
   "metadata": {},
   "outputs": [],
   "source": [
    "# Number of CS per 100,000 people per unity area by Plotly Express\n",
    "fig_den = px.choropleth_mapbox(final_df_density, geojson=scot_states, color=\"Density\",\n",
    "                           locations=\"NAME_2\",featureidkey=\"properties.NAME_2\",\n",
    "                           center={\"lat\": 55.9533, \"lon\":-3.1883},\n",
    "                            color_continuous_scale= 'YlGnBu',#\"Viridis\"\n",
    "                            labels={'NAME_2':'Unitary Distinct',\"Density\":\"Number of CSs per 100,000 People\",\n",
    "                                    \"Number_of_Station\": \"Total Number of Stations\"},\n",
    "                           mapbox_style=\"open-street-map\", zoom=5)\n",
    "fig_den.update_layout(margin={\"r\":0,\"t\":0,\"l\":0,\"b\":0})\n",
    "fig_den.show() "
   ]
  },
  {
   "cell_type": "code",
   "execution_count": null,
   "id": "protecting-marble",
   "metadata": {},
   "outputs": [],
   "source": [
    "# fig_den.write_html(\"C:\\\\Users\\\\~~.html\",width = 600, height = 400))"
   ]
  },
  {
   "cell_type": "code",
   "execution_count": null,
   "id": "social-authority",
   "metadata": {},
   "outputs": [],
   "source": []
  }
 ],
 "metadata": {
  "kernelspec": {
   "display_name": "Python 3",
   "language": "python",
   "name": "python3"
  },
  "language_info": {
   "codemirror_mode": {
    "name": "ipython",
    "version": 3
   },
   "file_extension": ".py",
   "mimetype": "text/x-python",
   "name": "python",
   "nbconvert_exporter": "python",
   "pygments_lexer": "ipython3",
   "version": "3.8.5"
  }
 },
 "nbformat": 4,
 "nbformat_minor": 5
}
