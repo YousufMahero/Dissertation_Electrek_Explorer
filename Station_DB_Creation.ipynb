{
 "cells": [
  {
   "cell_type": "code",
   "execution_count": 1,
   "id": "parallel-dialogue",
   "metadata": {},
   "outputs": [],
   "source": [
    "import sys\n",
    "import os\n",
    "from shapely import speedups\n",
    "speedups.disable()\n",
    "from shapely.geometry import shape\n",
    "from shapely.ops import nearest_points\n",
    "import fiona\n",
    "import folium\n",
    "import geopandas as gpd\n",
    "import matplotlib.pyplot as plt\n",
    "import numpy as np\n",
    "import pandas as pd\n",
    "import requests\n",
    "from datetime import datetime\n",
    "from mpl_toolkits.axes_grid1 import make_axes_locatable\n",
    "from zipfile import ZipFile\n",
    "from shapely import wkt\n",
    "import branca\n",
    "import json\n",
    "from geopandas import GeoDataFrame\n",
    "from shapely.geometry import Point\n",
    "import glob\n",
    "import warnings\n",
    "warnings.filterwarnings(\"ignore\")\n",
    "pd.set_option('max_colwidth', 800)"
   ]
  },
  {
   "cell_type": "code",
   "execution_count": 2,
   "id": "concrete-discharge",
   "metadata": {},
   "outputs": [],
   "source": [
    "import math\n",
    "class Haversine:\n",
    "    '''\n",
    "    use the haversine class to calculate the distance between\n",
    "    two lon/lat coordnate pairs.\n",
    "    output distance available in kilometers, meters, miles, and feet.\n",
    "    example usage: Haversine([lon1,lat1],[lon2,lat2]).feet\n",
    "    \n",
    "    '''\n",
    "    def __init__(self,coord1,coord2):\n",
    "        lon1,lat1=coord1\n",
    "        lon2,lat2=coord2\n",
    "        \n",
    "        R=6371000                               # radius of Earth in meters\n",
    "        phi_1=math.radians(lat1)\n",
    "        phi_2=math.radians(lat2)\n",
    "\n",
    "        delta_phi=math.radians(lat2-lat1)\n",
    "        delta_lambda=math.radians(lon2-lon1)\n",
    "\n",
    "        a=math.sin(delta_phi/2.0)**2+\\\n",
    "           math.cos(phi_1)*math.cos(phi_2)*\\\n",
    "           math.sin(delta_lambda/2.0)**2\n",
    "        c=2*math.atan2(math.sqrt(a),math.sqrt(1-a))\n",
    "        \n",
    "        self.meters=R*c                         # output distance in meters\n",
    "        self.km=self.meters/1000.0              # output distance in kilometers\n",
    "        self.miles=self.meters*0.000621371      # output distance in miles\n",
    "        self.feet=self.miles*5280               # output distance in feet\n",
    "\n",
    "if __name__ == \"__Haversine__\":\n",
    "    main()"
   ]
  },
  {
   "cell_type": "code",
   "execution_count": 10,
   "id": "worth-sender",
   "metadata": {},
   "outputs": [],
   "source": [
    "def get_all_stations_info():\n",
    "    # you can see it in yoru briwser by going to: \n",
    "#   # https://gbfs.urbansharing.com/edinburghcyclehire.com/station_information.json\n",
    "    response_station_information = requests.request(\"GET\", \"http://chargepoints.dft.gov.uk/api/retrieve/registry/format/json/\")\n",
    "    stations_info = response_station_information.json()\n",
    "    return stations_info"
   ]
  },
  {
   "cell_type": "code",
   "execution_count": 24,
   "id": "passive-amsterdam",
   "metadata": {},
   "outputs": [],
   "source": [
    "class Station:\n",
    "    def __init__(self, dictionary_from_api):\n",
    "        self.id= dictionary_from_api['ChargeDeviceId']\n",
    "        self.post_code = dictionary_from_api['ChargeDeviceLocation']['Address']['PostCode']\n",
    "        self.latitude = dictionary_from_api['ChargeDeviceLocation']['Latitude']  if dictionary_from_api['ChargeDeviceLocation']['Latitude'] != None else 0\n",
    "        self.longitude = dictionary_from_api['ChargeDeviceLocation']['Longitude']  if dictionary_from_api['ChargeDeviceLocation']['Longitude']!= None else 0\n",
    "        self.device_network = dictionary_from_api['DeviceNetworks']\n",
    "        self.org_name =dictionary_from_api['DeviceOwner']['OrganisationName']\n",
    "        self.on_street = dictionary_from_api['OnStreetFlag']\n",
    "        self.location_type = dictionary_from_api['LocationType']\n",
    "        self.connectors = []\n",
    "        self.connector_type = []\n",
    "        self.connector_kw = []\n",
    "        self.Number_of_Connector = 0\n",
    "        self.connector_merged_kw =[]\n",
    "        # if dictionary_from_api['date_of_creation'] != None else 0\n",
    "    def add_connector(self, connector):\n",
    "        self.connectors.append(connector)\n",
    "    def add_connectortype(self, connectortype):\n",
    "        self.connector_type.append(connectortype)\n",
    "    def add_connectorKW(self, connectorkw):\n",
    "        self.connector_kw.append(connectorkw)\n",
    "    def assign_numberofconnector(self, connetor_number):\n",
    "        self.Number_of_Connector = connetor_number    \n",
    "    def add_merged_connector_kw(self, list1 , list2):\n",
    "        self.connector_merged_kw.append(\" \".join([list1,list2]))\n",
    "        \n",
    "def data_into_objects(list_with_company_dictionaries):\n",
    "    station_objects = [Station(station_dictionary) \n",
    "                       for station_dictionary in list_with_company_dictionaries]\n",
    "    return station_objects\n",
    "def prepare_data(station_objects):      \n",
    "    return { 'station_id': [ station.id for station in station_objects ],\n",
    "             'device_network': [ station.device_network for station in station_objects ],\n",
    "             'organisation_name': [station.org_name for station in station_objects],\n",
    "             'on_street':[station.on_street for station in station_objects],\n",
    "             'location_type': [station.location_type for station in station_objects],\n",
    "             'post_code' :[ station.post_code for station in station_objects ],\n",
    "            'latitude' :[ station.latitude for station in station_objects ],\n",
    "             'longitude': [ station.longitude for station in station_objects ],\n",
    "              'Connector': [ \", \".join(str(x) for x in station.connectors) for station in station_objects ],\n",
    "            'Connector_Type': [ \", \".join(str(x) for x in station.connector_type) for station in station_objects ],\n",
    "            'Connector_KW': [ \", \".join(str(x) for x in station.connector_kw) for station in station_objects ],\n",
    "            'Number_of_Connector' : [ station.Number_of_Connector for station in station_objects ],\n",
    "            'Connector_Type_List': [ station.connector_type for station in station_objects ],\n",
    "            'Connector_Type_Merged_KW': [ station.connector_merged_kw for station in station_objects ],\n",
    "           }\n",
    "def charger_info(station_objects,list_with_company_dictionaries):\n",
    "    for i , object in enumerate(station_objects):\n",
    "        connetor_number = len(list_with_company_dictionaries[i]['Connector'])\n",
    "        object.assign_numberofconnector(connetor_number)\n",
    "        if connetor_number > 0:\n",
    "            for y in range(0,connetor_number):\n",
    "                object.add_connector(list_with_company_dictionaries[i]['Connector'][y].get('ChargeMethod'))\n",
    "                object.add_connectortype(list_with_company_dictionaries[i]['Connector'][y].get('ConnectorType'))\n",
    "                object.add_connectorKW(list_with_company_dictionaries[i]['Connector'][y].get('RatedOutputkW'))\n",
    "                object.add_merged_connector_kw(list_with_company_dictionaries[i]['Connector'][y].get('ConnectorType'),list_with_company_dictionaries[i]['Connector'][y].get('RatedOutputkW'))\n",
    "#                object.add_status(list_with_company_dictionaries[i]['Connector'][y].get('ChargePointStatus'))"
   ]
  },
  {
   "cell_type": "code",
   "execution_count": 15,
   "id": "marked-stockholm",
   "metadata": {},
   "outputs": [],
   "source": [
    "slow = ['3-pin Type G (BS1363) 3.7','3-pin Type G (BS1363) 3.0', 'Type 1 SAEJ1772 (IEC 62196) 3.0', \n",
    "        'Type 2 Mennekes (IEC62196) 3.7', 'Type 1 SAEJ1772 (IEC 62196) 3.7'] # 5 types \n",
    "fast = ['Type 2 Mennekes (IEC62196) 7.0','Type 2 Mennekes (IEC62196) 22.0', 'Type 3 Scame (IEC62196) 22.0',\n",
    "       'Type 1 SAEJ1772 (IEC 62196) 7.0','Type 2 Mennekes (IEC62196) 11.0', 'Type 3 Scame (IEC62196) 7.0', \n",
    "        'Type 2 Combo (IEC62196) DC 22.0'] # 7 types\n",
    "rapid = ['JEVS G105 (CHAdeMO) DC 50.0','Type 2 Mennekes (IEC62196) 43.0','Type 2 Combo (IEC62196) DC 50.0',\n",
    "         'JEVS G105 (CHAdeMO) DC 22.0', 'Type 2 Tesla (IEC62196) DC 120.0','JEVS G105 (CHAdeMO) DC 36.0',\n",
    "       'Type 2 Combo (IEC62196) DC 36.0', 'JEVS G105 (CHAdeMO) DC 100.0',\n",
    "       'Type 2 Combo (IEC62196) DC 175.0',\n",
    "       'Type 2 Combo (IEC62196) DC 350.0' ]#10 types"
   ]
  },
  {
   "cell_type": "markdown",
   "id": "another-chile",
   "metadata": {},
   "source": [
    "# Creating Data"
   ]
  },
  {
   "cell_type": "code",
   "execution_count": 25,
   "id": "comic-planning",
   "metadata": {},
   "outputs": [],
   "source": [
    "infos=get_all_stations_info()\n",
    "station_objects = data_into_objects(infos['ChargeDevice'])\n",
    "charger_info(station_objects , infos['ChargeDevice'])\n",
    "Station_data = prepare_data(station_objects)\n",
    "Station_df = pd.DataFrame(Station_data)\n",
    "\n",
    "Station_df['Charger_Category'] = Station_df.Connector_Type_Merged_KW.apply(lambda x: \"Rapid\" if any(item in rapid for item in x) \n",
    "                                                                           else (\"Fast\" if any(item in fast for item in x) \n",
    "                                                                           else \"Slow\"))"
   ]
  },
  {
   "cell_type": "code",
   "execution_count": null,
   "id": "talented-johns",
   "metadata": {},
   "outputs": [],
   "source": [
    "#API return was saved as Json to not call and wait API for everytime run the code \n",
    "with open('stations.json') as f:\n",
    "        data = json.load(f)"
   ]
  },
  {
   "cell_type": "code",
   "execution_count": 29,
   "id": "recognized-daisy",
   "metadata": {},
   "outputs": [],
   "source": [
    "Station_df['latitude'] = pd.to_numeric(Station_df['latitude'])\n",
    "Station_df['longitude'] = pd.to_numeric(Station_df['longitude'])\n",
    "geometry = [Point(xy) for xy in zip(Station_df.longitude, Station_df.latitude)]\n",
    "Charging_stations_geo = GeoDataFrame(Station_df, crs=\"EPSG:4326\", geometry=geometry)"
   ]
  },
  {
   "cell_type": "code",
   "execution_count": 35,
   "id": "correct-pixel",
   "metadata": {},
   "outputs": [],
   "source": [
    "uk_border = gpd.read_file(\"C:\\\\Users\\\\yusuf\\\\Downloads\\\\Dissertation Code\\\\Shp_Files\\\\GBR_adm1.shp\")\n",
    "scotland_border= uk_border[uk_border.NAME_1 == 'Scotland'].reset_index(drop=True)"
   ]
  },
  {
   "cell_type": "code",
   "execution_count": 46,
   "id": "liberal-charleston",
   "metadata": {},
   "outputs": [],
   "source": [
    "num = 0 \n",
    "index_list = []\n",
    "for i,v in Charging_stations_geo.iterrows(): \n",
    "    if scotland_border.geometry[0].contains(v.geometry) == True:\n",
    "        index_list.append(i)\n",
    "        num = num + 1"
   ]
  },
  {
   "cell_type": "code",
   "execution_count": 52,
   "id": "characteristic-month",
   "metadata": {},
   "outputs": [],
   "source": [
    "scotland_stations = Charging_stations_geo.iloc[index_list].reset_index(drop=True)"
   ]
  },
  {
   "cell_type": "markdown",
   "id": "regulation-artist",
   "metadata": {},
   "source": [
    "##  Reading Ammenities Data"
   ]
  },
  {
   "cell_type": "code",
   "execution_count": 15,
   "id": "boring-chaos",
   "metadata": {},
   "outputs": [
    {
     "data": {
      "text/plain": [
       "['C:\\\\Users\\\\yusuf\\\\Downloads\\\\Dissertation Code\\\\Open_Data_Geofabric\\\\gis_osm_buildings_a_free_1.shp',\n",
       " 'C:\\\\Users\\\\yusuf\\\\Downloads\\\\Dissertation Code\\\\Open_Data_Geofabric\\\\gis_osm_landuse_a_free_1.shp',\n",
       " 'C:\\\\Users\\\\yusuf\\\\Downloads\\\\Dissertation Code\\\\Open_Data_Geofabric\\\\gis_osm_natural_a_free_1.shp',\n",
       " 'C:\\\\Users\\\\yusuf\\\\Downloads\\\\Dissertation Code\\\\Open_Data_Geofabric\\\\gis_osm_natural_free_1.shp',\n",
       " 'C:\\\\Users\\\\yusuf\\\\Downloads\\\\Dissertation Code\\\\Open_Data_Geofabric\\\\gis_osm_places_a_free_1.shp',\n",
       " 'C:\\\\Users\\\\yusuf\\\\Downloads\\\\Dissertation Code\\\\Open_Data_Geofabric\\\\gis_osm_places_free_1.shp',\n",
       " 'C:\\\\Users\\\\yusuf\\\\Downloads\\\\Dissertation Code\\\\Open_Data_Geofabric\\\\gis_osm_pofw_a_free_1.shp',\n",
       " 'C:\\\\Users\\\\yusuf\\\\Downloads\\\\Dissertation Code\\\\Open_Data_Geofabric\\\\gis_osm_pofw_free_1.shp',\n",
       " 'C:\\\\Users\\\\yusuf\\\\Downloads\\\\Dissertation Code\\\\Open_Data_Geofabric\\\\gis_osm_pois_a_free_1.shp',\n",
       " 'C:\\\\Users\\\\yusuf\\\\Downloads\\\\Dissertation Code\\\\Open_Data_Geofabric\\\\gis_osm_pois_free_1.shp',\n",
       " 'C:\\\\Users\\\\yusuf\\\\Downloads\\\\Dissertation Code\\\\Open_Data_Geofabric\\\\gis_osm_railways_free_1.shp',\n",
       " 'C:\\\\Users\\\\yusuf\\\\Downloads\\\\Dissertation Code\\\\Open_Data_Geofabric\\\\gis_osm_roads_free_1.shp',\n",
       " 'C:\\\\Users\\\\yusuf\\\\Downloads\\\\Dissertation Code\\\\Open_Data_Geofabric\\\\gis_osm_traffic_a_free_1.shp',\n",
       " 'C:\\\\Users\\\\yusuf\\\\Downloads\\\\Dissertation Code\\\\Open_Data_Geofabric\\\\gis_osm_traffic_free_1.shp',\n",
       " 'C:\\\\Users\\\\yusuf\\\\Downloads\\\\Dissertation Code\\\\Open_Data_Geofabric\\\\gis_osm_transport_a_free_1.shp',\n",
       " 'C:\\\\Users\\\\yusuf\\\\Downloads\\\\Dissertation Code\\\\Open_Data_Geofabric\\\\gis_osm_transport_free_1.shp',\n",
       " 'C:\\\\Users\\\\yusuf\\\\Downloads\\\\Dissertation Code\\\\Open_Data_Geofabric\\\\gis_osm_waterways_free_1.shp',\n",
       " 'C:\\\\Users\\\\yusuf\\\\Downloads\\\\Dissertation Code\\\\Open_Data_Geofabric\\\\gis_osm_water_a_free_1.shp']"
      ]
     },
     "execution_count": 15,
     "metadata": {},
     "output_type": "execute_result"
    }
   ],
   "source": [
    "path_osm='C:\\\\Users\\\\yusuf\\\\Downloads\\\\Dissertation Code\\\\Open_Data_Geofabric\\\\'\n",
    "all_files_osm = glob.glob(path_osm + \"/*.shp\")\n",
    "all_files_osm\n",
    "# list_of_dfs_osm = [gpd.read_file(filename).to_crs(epsg=4326) for filename in all_files_osm] # I added to_crs part\n",
    "# list_of_filenames_osm = [find_between(filename, \"Open_Data_Geofabric\\\\\",\".shp\") for filename in all_files_osm]\n",
    "# dfnames_and_dfvalues_osm = dict(zip(list_of_filenames_osm, list_of_dfs_osm))"
   ]
  },
  {
   "cell_type": "code",
   "execution_count": 16,
   "id": "strong-charles",
   "metadata": {},
   "outputs": [],
   "source": [
    "natural_osm_poly = gpd.read_file('C:\\\\Users\\\\yusuf\\\\Downloads\\\\Dissertation Code\\\\Open_Data_Geofabric\\\\gis_osm_natural_a_free_1.shp').to_crs(\"EPSG:4326\")\n",
    "natural_osm_point = gpd.read_file('C:\\\\Users\\\\yusuf\\\\Downloads\\\\Dissertation Code\\\\Open_Data_Geofabric\\\\gis_osm_natural_free_1.shp').to_crs(\"EPSG:4326\")"
   ]
  },
  {
   "cell_type": "code",
   "execution_count": 6,
   "id": "mineral-plaza",
   "metadata": {},
   "outputs": [],
   "source": [
    "building_osm = gpd.read_file('C:\\\\Users\\\\yusuf\\\\Downloads\\\\Dissertation Code\\\\Open_Data_Geofabric\\\\gis_osm_buildings_a_free_1.shp').to_crs(\"EPSG:4326\")"
   ]
  },
  {
   "cell_type": "code",
   "execution_count": 18,
   "id": "perfect-franchise",
   "metadata": {},
   "outputs": [],
   "source": [
    "natural_osm_poly_elem = natural_osm_poly[natural_osm_poly.name.notnull()].reset_index(drop = True)\n",
    "natural_osm_point_elem = natural_osm_point[natural_osm_point.name.notnull()].reset_index(drop = True)\n",
    "building_osm_poly=building_osm[building_osm.name.notnull()].reset_index(drop = True)"
   ]
  },
  {
   "cell_type": "code",
   "execution_count": 19,
   "id": "greek-suspect",
   "metadata": {},
   "outputs": [],
   "source": [
    "landuse_osm = gpd.read_file('C:\\\\Users\\\\yusuf\\\\Downloads\\\\Dissertation Code\\\\Open_Data_Geofabric\\\\gis_osm_landuse_a_free_1.shp').to_crs(\"EPSG:4326\")"
   ]
  },
  {
   "cell_type": "code",
   "execution_count": 20,
   "id": "phantom-ferry",
   "metadata": {},
   "outputs": [],
   "source": [
    "pois_osm_poly = gpd.read_file('C:\\\\Users\\\\yusuf\\\\Downloads\\\\Dissertation Code\\\\Open_Data_Geofabric\\\\gis_osm_pois_a_free_1.shp').to_crs(\"EPSG:4326\")\n",
    "pois_osm_point = gpd.read_file('C:\\\\Users\\\\yusuf\\\\Downloads\\\\Dissertation Code\\\\Open_Data_Geofabric\\\\gis_osm_pois_free_1.shp').to_crs(\"EPSG:4326\")"
   ]
  },
  {
   "cell_type": "code",
   "execution_count": 21,
   "id": "occupied-automation",
   "metadata": {},
   "outputs": [],
   "source": [
    "pois_osm_poly_elem = pois_osm_poly[pois_osm_poly.name.notnull()].reset_index(drop = True)\n",
    "pois_osm_point_elem = pois_osm_point[pois_osm_point.name.notnull()].reset_index(drop = True)"
   ]
  },
  {
   "cell_type": "code",
   "execution_count": 22,
   "id": "surprised-karen",
   "metadata": {},
   "outputs": [],
   "source": [
    "Worship_osm_poly = gpd.read_file('C:\\\\Users\\\\yusuf\\\\Downloads\\\\Dissertation Code\\\\Open_Data_Geofabric\\\\gis_osm_pofw_a_free_1.shp').to_crs(\"EPSG:4326\")\n",
    "Worship_osm_point = gpd.read_file('C:\\\\Users\\\\yusuf\\\\Downloads\\\\Dissertation Code\\\\Open_Data_Geofabric\\\\gis_osm_pofw_free_1.shp').to_crs(\"EPSG:4326\")"
   ]
  },
  {
   "cell_type": "code",
   "execution_count": 23,
   "id": "present-washer",
   "metadata": {},
   "outputs": [],
   "source": [
    "Worship_osm_point_elem = Worship_osm_point[Worship_osm_point.name.notnull()].reset_index(drop = True)\n",
    "Worship_osm_poly_elem = Worship_osm_poly[Worship_osm_poly.name.notnull()].reset_index(drop=True)"
   ]
  },
  {
   "cell_type": "code",
   "execution_count": 24,
   "id": "quality-basket",
   "metadata": {},
   "outputs": [],
   "source": [
    "landuse_osm_poly = landuse_osm[landuse_osm.name.notnull()].reset_index(drop=True)"
   ]
  },
  {
   "cell_type": "code",
   "execution_count": 25,
   "id": "adopted-richardson",
   "metadata": {},
   "outputs": [],
   "source": [
    "def is_stations_close_poly(dataframe_name, df, id, max_distance):\n",
    "    scotland_stations[dataframe_name] = \"\"\n",
    "    scotland_stations[dataframe_name] = scotland_stations[dataframe_name].astype(object)\n",
    "    temper = []\n",
    "    for index, v in scotland_stations.iterrows():\n",
    "        point= v.geometry\n",
    "        for j , k in df.iterrows(): \n",
    "            near_p = nearest_points(k.geometry,point)\n",
    "            if Haversine(near_p[0].coords[0], point.coords[0]).km <= max_distance:\n",
    "                temper.append(df.loc[j,id])\n",
    "        if len(temper) != 0: \n",
    "            scotland_stations_geo[dataframe_name][index] = temper\n",
    "        temper = []\n",
    "    return temper"
   ]
  },
  {
   "cell_type": "code",
   "execution_count": 26,
   "id": "hazardous-manitoba",
   "metadata": {},
   "outputs": [],
   "source": [
    "def is_stations_close_point(dataframe_name, df, id, max_distance):\n",
    "    scotland_stations[dataframe_name] = \"\"\n",
    "    scotland_stations[dataframe_name] = scotland_stations[dataframe_name].astype(object)\n",
    "    temper = []\n",
    "    for index, v in scotland_stations.iterrows():\n",
    "        point= v.geometry\n",
    "        for j , k in df.iterrows(): \n",
    "            if Haversine(k.geometry.coords[0], point.coords[0]).km <= max_distance:\n",
    "                temper.append(df.loc[j,id])\n",
    "        if len(temper) != 0: \n",
    "            scotland_stations_geo[dataframe_name][index] = temper  \n",
    "        temper = []\n",
    "    return temper"
   ]
  },
  {
   "cell_type": "code",
   "execution_count": 35,
   "id": "behind-commission",
   "metadata": {},
   "outputs": [
    {
     "data": {
      "text/plain": [
       "[]"
      ]
     },
     "execution_count": 35,
     "metadata": {},
     "output_type": "execute_result"
    }
   ],
   "source": [
    "is_stations_close_poly('Worship_osm_poly_elem',Worship_osm_poly_elem,'osm_id', 3)\n",
    "is_stations_close_poly('landuse_osm_poly',landuse_osm_poly,'osm_id', 3)\n",
    "is_stations_close_poly('pois_osm_poly_elem',pois_osm_poly_elem,'osm_id', 3)\n",
    "is_stations_close_poly('natural_osm_poly_elem',natural_osm_poly_elem,'osm_id', 3)"
   ]
  },
  {
   "cell_type": "code",
   "execution_count": 36,
   "id": "mexican-cycling",
   "metadata": {},
   "outputs": [],
   "source": [
    "#scotland_stations_geo.to_csv('C:\\\\Users\\\\yusuf\\\\Downloads\\\\Dissertation Code\\\\Scotland_Stations_Combined_Last_3.csv', index=None, header=True)"
   ]
  },
  {
   "cell_type": "code",
   "execution_count": 37,
   "id": "western-harris",
   "metadata": {},
   "outputs": [
    {
     "data": {
      "text/plain": [
       "[]"
      ]
     },
     "execution_count": 37,
     "metadata": {},
     "output_type": "execute_result"
    }
   ],
   "source": [
    "is_stations_close_point('Worship_osm_point_elem',Worship_osm_point_elem,'osm_id', 1)\n",
    "is_stations_close_point('pois_osm_point_elem',pois_osm_point_elem,'osm_id', 1)\n",
    "is_stations_close_point('natural_osm_point_elem',natural_osm_point_elem,'osm_id', 3)"
   ]
  },
  {
   "cell_type": "code",
   "execution_count": 38,
   "id": "union-gamma",
   "metadata": {},
   "outputs": [],
   "source": [
    "#scotland_stations_geo.to_csv('C:\\\\Users\\\\yusuf\\\\Downloads\\\\Dissertation Code\\\\Scotland_Stations_Combined_Last_4_Number.csv', index=None, header=True)"
   ]
  }
 ],
 "metadata": {
  "kernelspec": {
   "display_name": "Python 3",
   "language": "python",
   "name": "python3"
  },
  "language_info": {
   "codemirror_mode": {
    "name": "ipython",
    "version": 3
   },
   "file_extension": ".py",
   "mimetype": "text/x-python",
   "name": "python",
   "nbconvert_exporter": "python",
   "pygments_lexer": "ipython3",
   "version": "3.8.5"
  }
 },
 "nbformat": 4,
 "nbformat_minor": 5
}
